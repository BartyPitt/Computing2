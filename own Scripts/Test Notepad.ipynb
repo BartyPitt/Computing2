{
 "cells": [
  {
   "cell_type": "code",
   "execution_count": 1,
   "metadata": {},
   "outputs": [
    {
     "ename": "SyntaxError",
     "evalue": "invalid syntax (<ipython-input-1-4168a239b4a9>, line 3)",
     "output_type": "error",
     "traceback": [
      "\u001b[1;36m  File \u001b[1;32m\"<ipython-input-1-4168a239b4a9>\"\u001b[1;36m, line \u001b[1;32m3\u001b[0m\n\u001b[1;33m    true = [for i in test , if i[0] >1 and if i[1] > 1]\u001b[0m\n\u001b[1;37m              ^\u001b[0m\n\u001b[1;31mSyntaxError\u001b[0m\u001b[1;31m:\u001b[0m invalid syntax\n"
     ]
    }
   ],
   "source": [
    "x,y = 1,1\n",
    "test = [[x-i,y-j] for i in range(-1,2) for j in range (-1,2)][1::2]\n",
    "true = [for i in test , if i[0] >1 and if i[1] > 1]\n",
    "#test = test[1::2]\n",
    "print (test)"
   ]
  },
  {
   "cell_type": "code",
   "execution_count": 12,
   "metadata": {},
   "outputs": [
    {
     "name": "stdout",
     "output_type": "stream",
     "text": [
      "\u001b[2;37;40m 0\u001b[2;37;41m 1\u001b[2;37;41m 1\u001b[2;37;40m 0\u001b[2;37;40m 0\u001b[2;37;40m 0\u001b[2;37;41m 1\u001b[2;37;40m 0\u001b[2;37;40m 0\u001b[2;37;40m 0\n",
      "\u001b[2;37;41m 1\u001b[2;37;40m 0\u001b[2;37;40m 0\u001b[2;37;41m 1\u001b[2;37;41m 1\u001b[2;37;40m 0\u001b[2;37;41m 1\u001b[2;37;40m 0\u001b[2;37;41m 1\u001b[2;37;40m 0\n",
      "\u001b[2;37;41m 1\u001b[2;37;41m 1\u001b[2;37;41m 1\u001b[2;37;40m 0\u001b[2;37;41m 1\u001b[2;37;40m 0\u001b[2;37;41m 1\u001b[2;37;41m 1\u001b[2;37;40m 0\u001b[2;37;40m 0\n",
      "\u001b[2;37;40m 0\u001b[2;37;40m 0\u001b[2;37;40m 0\u001b[2;37;41m 1\u001b[2;37;40m 0\u001b[2;37;41m 1\u001b[2;37;40m 0\u001b[2;37;40m 0\u001b[2;37;41m 1\u001b[2;37;40m 0\n",
      "\u001b[2;37;41m 1\u001b[2;37;40m 0\u001b[2;37;41m 1\u001b[2;37;41m 1\u001b[2;37;40m 0\u001b[2;37;40m 0\u001b[2;37;40m 0\u001b[2;37;40m 0\u001b[2;37;40m 0\u001b[2;37;41m 1\n",
      "\u001b[2;37;41m 1\u001b[2;37;41m 1\u001b[2;37;41m 1\u001b[2;37;41m 1\u001b[2;37;41m 1\u001b[2;37;41m 1\u001b[2;37;41m 1\u001b[2;37;40m 0\u001b[2;37;40m 0\u001b[2;37;40m 0\n",
      "\u001b[2;37;41m 1\u001b[2;37;40m 0\u001b[2;37;41m 1\u001b[2;37;40m 0\u001b[2;37;41m 1\u001b[2;37;41m 1\u001b[2;37;40m 0\u001b[2;37;41m 1\u001b[2;37;41m 1\u001b[2;37;41m 1\n",
      "\u001b[2;37;41m 1\u001b[2;37;40m 0\u001b[2;37;41m 1\u001b[2;37;40m 0\u001b[2;37;41m 1\u001b[2;37;40m 0\u001b[2;37;41m 1\u001b[2;37;41m 1\u001b[2;37;40m 0\u001b[2;37;40m 0\n",
      "\u001b[2;37;41m 1\u001b[2;37;41m 1\u001b[2;37;41m 1\u001b[2;37;40m 0\u001b[2;37;41m 1\u001b[2;37;40m 0\u001b[2;37;40m 0\u001b[2;37;41m 1\u001b[2;37;41m 1\u001b[2;37;41m 1\n",
      "\u001b[2;37;40m 0\u001b[2;37;41m 1\u001b[2;37;41m 1\u001b[2;37;41m 1\u001b[2;37;40m 0\u001b[2;37;40m 0\u001b[2;37;41m 1\u001b[2;37;40m 0\u001b[2;37;41m 1\u001b[2;37;41m 1\n"
     ]
    }
   ],
   "source": [
    "from random import randint\n",
    "class test:\n",
    "    def __init__(self,x):\n",
    "        self.x = randint(0,9)\n",
    "        if self.x < 6:\n",
    "            self.y = 1\n",
    "        else:\n",
    "            self.y = 0\n",
    "\n",
    "ogrid = [[test(x*y)for x in range(10)] for y in range(10)]\n",
    "\n",
    "a = lambda z : z.y\n",
    "\n",
    "def debugGrid(end):\n",
    "    for row in ogrid:\n",
    "        line = \"\"\n",
    "        for point in row:\n",
    "            var = end(point)\n",
    "            line += \"\\033[2;\"+ \"37;\"+ str(var%6 + 40)+ \"m \" + str(var)\n",
    "        print (line)\n",
    "\n",
    "debugGrid(a)"
   ]
  },
  {
   "cell_type": "code",
   "execution_count": null,
   "metadata": {},
   "outputs": [],
   "source": [
    "a = set([1,2,3,4])\n",
    "b = set([2,3,4,5])\n",
    "c = a | b\n",
    "d = a&b\n",
    "e = a - b\n",
    "print(c)\n",
    "print(d)\n",
    "print(e)"
   ]
  },
  {
   "cell_type": "code",
   "execution_count": 3,
   "metadata": {},
   "outputs": [
    {
     "name": "stdout",
     "output_type": "stream",
     "text": [
      "4.305470110965931\n"
     ]
    }
   ],
   "source": [
    "import numpy as np\n",
    "import timeit\n",
    "def method1(sot):\n",
    "    target = np.random.randint(5, size=(sot, sot))\n",
    "    output = []\n",
    "    for y , row in enumerate(target):\n",
    "        output.append([])\n",
    "        for x , point in enumerate(row):\n",
    "            pointlist = [[y,x+1],[y,x-1],[y+1,x],[y-1,x]]\n",
    "            output[y].append(0)\n",
    "            for sq in pointlist:\n",
    "                try:\n",
    "                    output[y][x] += target[sq[0]][sq[1]]\n",
    "                except IndexError:\n",
    "                    continue\n",
    "            \n",
    "        \n",
    "    return output,target\n",
    "\n",
    "#method2(sot)\n",
    "import timeit\n",
    "start_time = timeit.default_timer()\n",
    "method1(1000)\n",
    "elapsed = timeit.default_timer() - start_time\n",
    "print(elapsed)            "
   ]
  },
  {
   "cell_type": "code",
   "execution_count": 2,
   "metadata": {},
   "outputs": [
    {
     "data": {
      "text/plain": [
       "3"
      ]
     },
     "execution_count": 2,
     "metadata": {},
     "output_type": "execute_result"
    }
   ],
   "source": [
    "testparts = {1:1,2:3,3:4,5:7}\n",
    "for i in testparts"
   ]
  },
  {
   "cell_type": "code",
   "execution_count": 6,
   "metadata": {},
   "outputs": [
    {
     "name": "stdout",
     "output_type": "stream",
     "text": [
      "2\n",
      "1\n"
     ]
    }
   ],
   "source": [
    "print(8%3)\n",
    "print(8//5)"
   ]
  },
  {
   "cell_type": "code",
   "execution_count": null,
   "metadata": {},
   "outputs": [],
   "source": []
  }
 ],
 "metadata": {
  "kernelspec": {
   "display_name": "Python 3",
   "language": "python",
   "name": "python3"
  },
  "language_info": {
   "codemirror_mode": {
    "name": "ipython",
    "version": 3
   },
   "file_extension": ".py",
   "mimetype": "text/x-python",
   "name": "python",
   "nbconvert_exporter": "python",
   "pygments_lexer": "ipython3",
   "version": "3.6.4"
  }
 },
 "nbformat": 4,
 "nbformat_minor": 2
}
