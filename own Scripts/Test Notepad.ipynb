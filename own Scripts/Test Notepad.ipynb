{
 "cells": [
  {
   "cell_type": "code",
   "execution_count": 1,
   "metadata": {},
   "outputs": [
    {
     "ename": "SyntaxError",
     "evalue": "invalid syntax (<ipython-input-1-4168a239b4a9>, line 3)",
     "output_type": "error",
     "traceback": [
      "\u001b[1;36m  File \u001b[1;32m\"<ipython-input-1-4168a239b4a9>\"\u001b[1;36m, line \u001b[1;32m3\u001b[0m\n\u001b[1;33m    true = [for i in test , if i[0] >1 and if i[1] > 1]\u001b[0m\n\u001b[1;37m              ^\u001b[0m\n\u001b[1;31mSyntaxError\u001b[0m\u001b[1;31m:\u001b[0m invalid syntax\n"
     ]
    }
   ],
   "source": [
    "x,y = 1,1\n",
    "test = [[x-i,y-j] for i in range(-1,2) for j in range (-1,2)][1::2]\n",
    "true = [for i in test , if i[0] >1 and if i[1] > 1]\n",
    "#test = test[1::2]\n",
    "print (test)"
   ]
  },
  {
   "cell_type": "code",
   "execution_count": 1,
   "metadata": {},
   "outputs": [
    {
     "name": "stdout",
     "output_type": "stream",
     "text": [
      "\u001b[2;37;41m 1\u001b[2;37;40m 0\u001b[2;37;40m 0\u001b[2;37;41m 1\u001b[2;37;40m 0\u001b[2;37;41m 1\u001b[2;37;40m 0\u001b[2;37;40m 0\u001b[2;37;41m 1\u001b[2;37;41m 1\n",
      "\u001b[2;37;41m 1\u001b[2;37;41m 1\u001b[2;37;40m 0\u001b[2;37;41m 1\u001b[2;37;41m 1\u001b[2;37;40m 0\u001b[2;37;40m 0\u001b[2;37;41m 1\u001b[2;37;40m 0\u001b[2;37;41m 1\n",
      "\u001b[2;37;41m 1\u001b[2;37;40m 0\u001b[2;37;40m 0\u001b[2;37;40m 0\u001b[2;37;40m 0\u001b[2;37;41m 1\u001b[2;37;41m 1\u001b[2;37;41m 1\u001b[2;37;40m 0\u001b[2;37;41m 1\n",
      "\u001b[2;37;41m 1\u001b[2;37;41m 1\u001b[2;37;41m 1\u001b[2;37;40m 0\u001b[2;37;41m 1\u001b[2;37;40m 0\u001b[2;37;41m 1\u001b[2;37;41m 1\u001b[2;37;40m 0\u001b[2;37;40m 0\n",
      "\u001b[2;37;41m 1\u001b[2;37;41m 1\u001b[2;37;41m 1\u001b[2;37;41m 1\u001b[2;37;40m 0\u001b[2;37;41m 1\u001b[2;37;40m 0\u001b[2;37;41m 1\u001b[2;37;40m 0\u001b[2;37;40m 0\n",
      "\u001b[2;37;41m 1\u001b[2;37;40m 0\u001b[2;37;40m 0\u001b[2;37;41m 1\u001b[2;37;41m 1\u001b[2;37;41m 1\u001b[2;37;40m 0\u001b[2;37;41m 1\u001b[2;37;40m 0\u001b[2;37;41m 1\n",
      "\u001b[2;37;41m 1\u001b[2;37;41m 1\u001b[2;37;40m 0\u001b[2;37;41m 1\u001b[2;37;41m 1\u001b[2;37;41m 1\u001b[2;37;41m 1\u001b[2;37;40m 0\u001b[2;37;41m 1\u001b[2;37;41m 1\n",
      "\u001b[2;37;41m 1\u001b[2;37;40m 0\u001b[2;37;41m 1\u001b[2;37;41m 1\u001b[2;37;40m 0\u001b[2;37;41m 1\u001b[2;37;40m 0\u001b[2;37;41m 1\u001b[2;37;40m 0\u001b[2;37;40m 0\n",
      "\u001b[2;37;41m 1\u001b[2;37;40m 0\u001b[2;37;41m 1\u001b[2;37;40m 0\u001b[2;37;40m 0\u001b[2;37;40m 0\u001b[2;37;41m 1\u001b[2;37;40m 0\u001b[2;37;40m 0\u001b[2;37;40m 0\n",
      "\u001b[2;37;40m 0\u001b[2;37;41m 1\u001b[2;37;41m 1\u001b[2;37;41m 1\u001b[2;37;40m 0\u001b[2;37;41m 1\u001b[2;37;41m 1\u001b[2;37;41m 1\u001b[2;37;40m 0\u001b[2;37;40m 0\n"
     ]
    }
   ],
   "source": [
    "from random import randint\n",
    "class test:\n",
    "    def __init__(self,x):\n",
    "        self.x = randint(0,9)\n",
    "        if self.x < 6:\n",
    "            self.y = 1\n",
    "        else:\n",
    "            self.y = 0\n",
    "\n",
    "ogrid = [[test(x*y)for x in range(10)] for y in range(10)]\n",
    "\n",
    "a = lambda z : z.y\n",
    "\n",
    "def debugGrid(end):\n",
    "    for row in ogrid:\n",
    "        line = \"\"\n",
    "        for point in row:\n",
    "            var = end(point)\n",
    "            line += \"\\033[2;\"+ \"37;\"+ str(var%6 + 40)+ \"m \" + str(var)\n",
    "        print (line)\n",
    "\n",
    "debugGrid(a)"
   ]
  },
  {
   "cell_type": "code",
   "execution_count": null,
   "metadata": {},
   "outputs": [],
   "source": [
    "a = set([1,2,3,4])\n",
    "b = set([2,3,4,5])\n",
    "c = a | b\n",
    "d = a&b\n",
    "e = a - b\n",
    "print(c)\n",
    "print(d)\n",
    "print(e)"
   ]
  },
  {
   "cell_type": "code",
   "execution_count": 3,
   "metadata": {},
   "outputs": [
    {
     "name": "stdout",
     "output_type": "stream",
     "text": [
      "4.305470110965931\n"
     ]
    }
   ],
   "source": [
    "import numpy as np\n",
    "import timeit\n",
    "def method1(sot):\n",
    "    target = np.random.randint(5, size=(sot, sot))\n",
    "    output = []\n",
    "    for y , row in enumerate(target):\n",
    "        output.append([])\n",
    "        for x , point in enumerate(row):\n",
    "            pointlist = [[y,x+1],[y,x-1],[y+1,x],[y-1,x]]\n",
    "            output[y].append(0)\n",
    "            for sq in pointlist:\n",
    "                try:\n",
    "                    output[y][x] += target[sq[0]][sq[1]]\n",
    "                except IndexError:\n",
    "                    continue\n",
    "            \n",
    "        \n",
    "    return output,target\n",
    "\n",
    "#method2(sot)\n",
    "import timeit\n",
    "start_time = timeit.default_timer()\n",
    "method1(1000)\n",
    "elapsed = timeit.default_timer() - start_time\n",
    "print(elapsed)            "
   ]
  },
  {
   "cell_type": "code",
   "execution_count": 2,
   "metadata": {},
   "outputs": [
    {
     "data": {
      "text/plain": [
       "3"
      ]
     },
     "execution_count": 2,
     "metadata": {},
     "output_type": "execute_result"
    }
   ],
   "source": [
    "testparts = {1:1,2:3,3:4,5:7}\n",
    "for i in testparts"
   ]
  },
  {
   "cell_type": "code",
   "execution_count": 6,
   "metadata": {},
   "outputs": [
    {
     "name": "stdout",
     "output_type": "stream",
     "text": [
      "2\n",
      "1\n"
     ]
    }
   ],
   "source": [
    "print(8%3)\n",
    "print(8//5)"
   ]
  },
  {
   "cell_type": "code",
   "execution_count": 2,
   "metadata": {},
   "outputs": [
    {
     "ename": "IndentationError",
     "evalue": "expected an indented block (<ipython-input-2-f2079766136d>, line 81)",
     "output_type": "error",
     "traceback": [
      "\u001b[1;36m  File \u001b[1;32m\"<ipython-input-2-f2079766136d>\"\u001b[1;36m, line \u001b[1;32m81\u001b[0m\n\u001b[1;33m    a = TreePoint([(0,0)])\u001b[0m\n\u001b[1;37m    ^\u001b[0m\n\u001b[1;31mIndentationError\u001b[0m\u001b[1;31m:\u001b[0m expected an indented block\n"
     ]
    }
   ],
   "source": [
    "def generate_shape(shape_id):\n",
    "    \"\"\"\n",
    "    Utility function called by generate_target\n",
    "    \"\"\"\n",
    "    shape = None\n",
    "    if shape_id == 1:\n",
    "        shape = [[0, 0], [0, 1], [1, 0], [1, 1]]\n",
    "    elif shape_id == 2:\n",
    "        shape = [[0, 0], [1, 0], [2, 0], [3, 0]]\n",
    "    elif shape_id == 3:\n",
    "        shape = [[0, 0], [0, 1], [0, 2], [0, 3]]\n",
    "    elif shape_id == 4:\n",
    "        shape = [[0, 0], [1, 0], [2, 0], [2, 1]]\n",
    "    elif shape_id == 5:\n",
    "        shape = [[0, 0], [1, -2], [1, -1], [1, 0]]\n",
    "    elif shape_id == 6:\n",
    "        shape = [[0, 0], [0, 1], [1, 1], [2, 1]]\n",
    "    elif shape_id == 7:\n",
    "        shape = [[0, 0], [0, 1], [0, 2], [1, 0]]\n",
    "    elif shape_id == 8:\n",
    "        shape = [[0, 0], [1, 0], [2, -1], [2, 0]]\n",
    "    elif shape_id == 9:\n",
    "        shape = [[0, 0], [0, 1], [0, 2], [1, 2]]\n",
    "    elif shape_id == 10:\n",
    "        shape = [[0, 0], [0, 1], [1, 0], [2, 0]]\n",
    "    elif shape_id == 11:\n",
    "        shape = [[0, 0], [1, 0], [1, 1], [1, 2]]\n",
    "    elif shape_id == 12:\n",
    "        shape = [[0, 0], [1, 0], [1, 1], [2, 0]]\n",
    "    elif shape_id == 13:\n",
    "        shape = [[0, 0], [1, -1], [1, 0], [1, 1]]\n",
    "    elif shape_id == 14:\n",
    "        shape = [[0, 0], [1, -1], [1, 0], [2, 0]]\n",
    "    elif shape_id == 15:\n",
    "        shape = [[0, 0], [0, 1], [0, 2], [1, 1]]\n",
    "    elif shape_id == 16:\n",
    "        shape = [[0, 0], [0, 1], [1, -1], [1, 0]]\n",
    "    elif shape_id == 17:\n",
    "        shape = [[0, 0], [1, 0], [1, 1], [2, 1]]\n",
    "    elif shape_id == 18:\n",
    "        shape = [[0, 0], [0, 1], [1, 1], [1, 2]]\n",
    "    elif shape_id == 19:\n",
    "        shape = [[0, 0], [1, -1], [1, 0], [2, -1]]\n",
    "    return shape                \n",
    "\n",
    "class TreePoint():\n",
    "    def __init__(self,cords):\n",
    "        self.child = []\n",
    "        self.id = \"\"\n",
    "        self.cords = cords\n",
    "    def genkids(self):\n",
    "        new = set()\n",
    "        if len(self.cords) < 4:\n",
    "            for cord in self.cords:\n",
    "                for i in [[0,1],[1,0],[0,-1],[-1,0]]:\n",
    "                    new.add((cord[0]+i[0],cord[1]+i[1]))\n",
    "            for item in self.cords:\n",
    "                new.discard(item)\n",
    "            if new:\n",
    "                for i in new:\n",
    "                    temp = []\n",
    "                    for k in self.cords:\n",
    "                        temp.append(k)\n",
    "                    temp.append(i)\n",
    "                    self.child.append(TreePoint(temp))\n",
    "                    self.child[-1].genkids()\n",
    "        else:\n",
    "            for i in range(1,18):\n",
    "                for cord in self.cords:\n",
    "                    tempcords = []\n",
    "                    for k in self.cords:\n",
    "                        temp = [cord[0] - k[0],cord[1] - k[1]]\n",
    "                        if temp not in generate_shape(i):\n",
    "                            break\n",
    "                    else:\n",
    "                        self.id = i\n",
    "                        \n",
    "def realcordsTest(pos,cord):\n",
    "    tempy = pos[0] + cord[0]\n",
    "    temx = pos[1] + cord[1]\n",
    "    try:\n",
    "        if ogrid[tempy][tempx].state = -1:\n",
    "            return True\n",
    "        else:\n",
    "            return False\n",
    "    except IndexError:\n",
    "        return False\n",
    "        \n",
    "    \n",
    "                        \n",
    "def nextLevel(node,pos):\n",
    "    temp = node.cords\n",
    "    if realcordsTest(pos,temp[-1]) == True:\n",
    "        if len(temp) > 3:\n",
    "            if testshape[node.id] > 1\n",
    "                return [score(pos,node.id),node.cords]\n",
    "            else:\n",
    "                return([-1])\n",
    "        else:\n",
    "            best = [-1,\"nope\"]\n",
    "            for newnode in node.child:\n",
    "                compare = nextLevel(newnode,pos)\n",
    "                if compare > best:\n",
    "                    best = [compare,newnode]\n",
    "    else:\n",
    "        return([-1])\n",
    "                \n",
    "a = TreePoint([(0,0)])\n",
    "a.genkids()\n",
    "print(a.child[-1].child[-1].child[7].id)\n",
    "\n",
    "nextlevel(a,pos)"
   ]
  },
  {
   "cell_type": "code",
   "execution_count": 54,
   "metadata": {},
   "outputs": [
    {
     "name": "stdout",
     "output_type": "stream",
     "text": [
      "1\n",
      "2\n",
      "3\n",
      "4\n"
     ]
    }
   ],
   "source": [
    "for i in range(1,5):\n",
    "    print(i)"
   ]
  },
  {
   "cell_type": "code",
   "execution_count": 7,
   "metadata": {},
   "outputs": [
    {
     "name": "stdout",
     "output_type": "stream",
     "text": [
      "False\n"
     ]
    }
   ],
   "source": [
    "x = 1\n",
    "y = 3\n",
    "z = 5\n",
    "\n",
    "if x==1 and (y == 2 or y == 4):\n",
    "    print (True)\n",
    "else:\n",
    "    print(False)\n"
   ]
  },
  {
   "cell_type": "code",
   "execution_count": null,
   "metadata": {},
   "outputs": [],
   "source": []
  }
 ],
 "metadata": {
  "kernelspec": {
   "display_name": "Python 3",
   "language": "python",
   "name": "python3"
  },
  "language_info": {
   "codemirror_mode": {
    "name": "ipython",
    "version": 3
   },
   "file_extension": ".py",
   "mimetype": "text/x-python",
   "name": "python",
   "nbconvert_exporter": "python",
   "pygments_lexer": "ipython3",
   "version": "3.6.4"
  }
 },
 "nbformat": 4,
 "nbformat_minor": 2
}
