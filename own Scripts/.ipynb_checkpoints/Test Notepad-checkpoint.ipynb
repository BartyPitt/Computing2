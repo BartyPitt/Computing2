{
 "cells": [
  {
   "cell_type": "code",
   "execution_count": 6,
   "metadata": {},
   "outputs": [
    {
     "name": "stdout",
     "output_type": "stream",
     "text": [
      "[[-1, 0], [0, -1], [0, 1], [1, 0]]\n"
     ]
    }
   ],
   "source": [
    "test = [[i,j] for i in range(-1,2) for j in range (-1,2)][1::2]\n",
    "#test = test[1::2]\n",
    "print (test)"
   ]
  },
  {
   "cell_type": "code",
   "execution_count": 7,
   "metadata": {},
   "outputs": [
    {
     "name": "stdout",
     "output_type": "stream",
     "text": [
      "\u001b[1;37;40m 0\u001b[1;37;40m 0\u001b[1;37;41m 1\u001b[1;37;40m 0\u001b[1;37;41m 1\u001b[1;37;41m 1\u001b[1;37;41m 1\u001b[1;37;41m 1\u001b[1;37;41m 1\u001b[1;37;41m 1\n",
      "\u001b[1;37;41m 1\u001b[1;37;41m 1\u001b[1;37;40m 0\u001b[1;37;40m 0\u001b[1;37;41m 1\u001b[1;37;41m 1\u001b[1;37;41m 1\u001b[1;37;40m 0\u001b[1;37;40m 0\u001b[1;37;41m 1\n",
      "\u001b[1;37;41m 1\u001b[1;37;41m 1\u001b[1;37;41m 1\u001b[1;37;41m 1\u001b[1;37;41m 1\u001b[1;37;41m 1\u001b[1;37;41m 1\u001b[1;37;41m 1\u001b[1;37;40m 0\u001b[1;37;40m 0\n",
      "\u001b[1;37;40m 0\u001b[1;37;41m 1\u001b[1;37;40m 0\u001b[1;37;41m 1\u001b[1;37;41m 1\u001b[1;37;40m 0\u001b[1;37;41m 1\u001b[1;37;41m 1\u001b[1;37;41m 1\u001b[1;37;41m 1\n",
      "\u001b[1;37;41m 1\u001b[1;37;41m 1\u001b[1;37;40m 0\u001b[1;37;40m 0\u001b[1;37;40m 0\u001b[1;37;41m 1\u001b[1;37;41m 1\u001b[1;37;40m 0\u001b[1;37;40m 0\u001b[1;37;41m 1\n",
      "\u001b[1;37;40m 0\u001b[1;37;40m 0\u001b[1;37;40m 0\u001b[1;37;41m 1\u001b[1;37;40m 0\u001b[1;37;41m 1\u001b[1;37;40m 0\u001b[1;37;40m 0\u001b[1;37;41m 1\u001b[1;37;41m 1\n",
      "\u001b[1;37;41m 1\u001b[1;37;40m 0\u001b[1;37;41m 1\u001b[1;37;40m 0\u001b[1;37;41m 1\u001b[1;37;41m 1\u001b[1;37;41m 1\u001b[1;37;40m 0\u001b[1;37;40m 0\u001b[1;37;41m 1\n",
      "\u001b[1;37;41m 1\u001b[1;37;40m 0\u001b[1;37;41m 1\u001b[1;37;40m 0\u001b[1;37;41m 1\u001b[1;37;41m 1\u001b[1;37;41m 1\u001b[1;37;41m 1\u001b[1;37;40m 0\u001b[1;37;41m 1\n",
      "\u001b[1;37;40m 0\u001b[1;37;41m 1\u001b[1;37;41m 1\u001b[1;37;40m 0\u001b[1;37;41m 1\u001b[1;37;40m 0\u001b[1;37;41m 1\u001b[1;37;40m 0\u001b[1;37;40m 0\u001b[1;37;41m 1\n",
      "\u001b[1;37;40m 0\u001b[1;37;41m 1\u001b[1;37;41m 1\u001b[1;37;41m 1\u001b[1;37;40m 0\u001b[1;37;41m 1\u001b[1;37;40m 0\u001b[1;37;40m 0\u001b[1;37;40m 0\u001b[1;37;41m 1\n"
     ]
    }
   ],
   "source": [
    "from random import randint\n",
    "class test:\n",
    "    def __init__(self,x):\n",
    "        self.x = randint(0,9)\n",
    "        if self.x < 6:\n",
    "            self.y = 1\n",
    "        else:\n",
    "            self.y = 0\n",
    "\n",
    "ogrid = [[test(x*y)for x in range(10)] for y in range(10)]\n",
    "\n",
    "a = lambda z : z.y\n",
    "\n",
    "def debugGrid(end):\n",
    "    for row in ogrid:\n",
    "        line = \"\"\n",
    "        for point in row:\n",
    "            var = end(point)\n",
    "            line += \"\\033[2;\"+ \"37;\"+ str(var%6 + 40)+ \"m \" + str(var)\n",
    "        print (line)\n",
    "\n",
    "debugGrid(a)"
   ]
  },
  {
   "cell_type": "code",
   "execution_count": null,
   "metadata": {},
   "outputs": [],
   "source": [
    "def groupsize(livenode):\n",
    "    alive = []\n",
    "    blive = []\n",
    "    general = set()\n",
    "    for sq in livenode.node:\n",
    "        if sq.state == 0:\n",
    "            alive.append(sq)\n",
    "    alive = set(alive)\n",
    "    for sq in alive:\n",
    "        for sqq in sq.node:\n",
    "            if sq.state == 0:\n",
    "                blive.append(sq)"
   ]
  },
  {
   "cell_type": "code",
   "execution_count": null,
   "metadata": {},
   "outputs": [],
   "source": []
  }
 ],
 "metadata": {
  "kernelspec": {
   "display_name": "Python 3",
   "language": "python",
   "name": "python3"
  },
  "language_info": {
   "codemirror_mode": {
    "name": "ipython",
    "version": 3
   },
   "file_extension": ".py",
   "mimetype": "text/x-python",
   "name": "python",
   "nbconvert_exporter": "python",
   "pygments_lexer": "ipython3",
   "version": "3.6.4"
  }
 },
 "nbformat": 4,
 "nbformat_minor": 2
}
